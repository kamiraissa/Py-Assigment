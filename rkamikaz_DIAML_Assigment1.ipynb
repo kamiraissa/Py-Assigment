{
 "cells": [
  {
   "cell_type": "code",
   "execution_count": 4,
   "metadata": {},
   "outputs": [],
   "source": [
    "import pandas as pd\n",
    "import math\n",
    "#import matplotlib as plt\n",
    "import numpy_financial as npf\n",
    "import matplotlib.pyplot as plt\n",
    "import numpy as np\n",
    "import matplotlib.pyplot as plt"
   ]
  },
  {
   "cell_type": "markdown",
   "metadata": {},
   "source": []
  },
  {
   "cell_type": "markdown",
   "metadata": {},
   "source": [
    "## QUESTION_1"
   ]
  },
  {
   "cell_type": "code",
   "execution_count": 3,
   "metadata": {},
   "outputs": [
    {
     "name": "stdout",
     "output_type": "stream",
     "text": [
      "The number of folds to exceed is :24\n"
     ]
    }
   ],
   "source": [
    "#constant height of mount everest in millimeters\n",
    "mount_everest= 8848000\n",
    "\n",
    "#calculate number folds to exceed height of mount everest\n",
    "f=math.ceil(math.log2(mount_everest))\n",
    "\n",
    "print(f\"The number of folds to exceed is :{f}\")\n",
    "\n"
   ]
  },
  {
   "cell_type": "markdown",
   "metadata": {},
   "source": [
    "## QUESTION_2"
   ]
  },
  {
   "cell_type": "code",
   "execution_count": 4,
   "metadata": {},
   "outputs": [
    {
     "name": "stdout",
     "output_type": "stream",
     "text": [
      "The time for the resevoir volume to decrease to one half is:6.931471805599452\n"
     ]
    }
   ],
   "source": [
    "#formula v(t)=v(0)exp(-at)\n",
    "# constant value of a\n",
    "a=0.1\n",
    "\n",
    "#calculate the time at which the volume decrease to one half\n",
    "\n",
    "# using math.log to calculate the(ln(0.5))\n",
    "t=math.log(0.5)/-a\n",
    "\n",
    "print(f\"The time for the resevoir volume to decrease to one half is:{t}\")"
   ]
  },
  {
   "cell_type": "markdown",
   "metadata": {},
   "source": [
    "## QUESTION_3"
   ]
  },
  {
   "cell_type": "code",
   "execution_count": 5,
   "metadata": {},
   "outputs": [
    {
     "name": "stdout",
     "output_type": "stream",
     "text": [
      "year 1: Total Amount = $105.0 \n",
      "year 2: Total Amount = $110.25 \n",
      "year 3: Total Amount = $115.763 \n",
      "year 4: Total Amount = $121.551 \n",
      "year 5: Total Amount = $127.628 \n"
     ]
    }
   ],
   "source": [
    "#Bank coumpount interest calculation formula\n",
    "\n",
    "pc=100 #initial deposit\n",
    "rt=0.05 # annual interest rate(5%)\n",
    "yr=5 # number of years\n",
    "\n",
    "#use of function to calculate coumpound interest\n",
    "\n",
    "def c_interest(pc,rt,yr):\n",
    "    \n",
    "    #initialization of an empty list to store each year interest\n",
    "    yr_interest= []\n",
    "    \n",
    "     # for loop from 1 year to 5 years\n",
    "    for y in range(1,6): \n",
    "        \n",
    "        # calculation of each year amount\n",
    "        a= pc * ((1 + rt) ** y)\n",
    "    \n",
    "        \n",
    "        #displaying the output\n",
    "        print(f\"year {y}: Total Amount = ${round(a,3)} \")\n",
    "    \n",
    "    return yr_interest\n",
    "        \n",
    "# call the function of compound interest\n",
    "yr= c_interest(pc,rt,yr)\n",
    "    \n"
   ]
  },
  {
   "cell_type": "markdown",
   "metadata": {},
   "source": [
    "## QUESTION_4"
   ]
  },
  {
   "cell_type": "code",
   "execution_count": 6,
   "metadata": {},
   "outputs": [
    {
     "name": "stdout",
     "output_type": "stream",
     "text": [
      "For year: 1, The Monthly Loan payment is:1776.976 \n",
      "For year: 2, The Monthly Loan payment is:941.469 \n",
      "For year: 3, The Monthly Loan payment is:664.286 \n"
     ]
    }
   ],
   "source": [
    "#car loan calculation formula\n",
    "rate=0.01 # Monthly interest rate\n",
    "pr=20000 #  amount $20000\n",
    "yr=0 #initializing the year to 0\n",
    "\n",
    "\n",
    "# using for loop for different months of the year\n",
    "for months in [12,24,36]:\n",
    "  \n",
    "  #condition for number of years not exceed 3\n",
    "  if yr <= 3:\n",
    "    #if the condition is true the year will increment\n",
    "    yr += 1\n",
    "    \n",
    "    #loan formula calculation\n",
    "    amt = (rate * pr) / (1-((1 + rate)** -months))\n",
    "    \n",
    "    #printing the year and corresponding repayment\n",
    "    print(f\"For year: {yr}, The Monthly Loan payment is:{round(amt,3)} \")\n",
    "    \n",
    "    #else the condition will break\n",
    "  else:\n",
    "    break\n",
    "    \n",
    "   \n",
    "    \n"
   ]
  },
  {
   "cell_type": "markdown",
   "metadata": {},
   "source": [
    "## QUESTION_5"
   ]
  },
  {
   "cell_type": "code",
   "execution_count": 10,
   "metadata": {},
   "outputs": [
    {
     "name": "stdout",
     "output_type": "stream",
     "text": [
      "The number of day needed it will take to repay the initial investment is:70 Days\n"
     ]
    }
   ],
   "source": [
    "# Number of days to repay the initial investment\n",
    "\n",
    "\n",
    "initial_invest= 100000 # the initial investment $100,000\n",
    "grw_rate= 0.01  # Growth rate in the number of customers\n",
    "initial_cust= 100 # day one customer number\n",
    "profit= 10  # profit per person\n",
    "cumulated_profit=0\n",
    "d= 0 # starting day at 0\n",
    "\n",
    "brk_day= None\n",
    "d_list=[]\n",
    "# create a  loop to compute daily profit\n",
    "while cumulated_profit < initial_invest:\n",
    "   d_list.append(d)\n",
    "   \n",
    " # calculating the total number of customer each day\n",
    "   customer_day= initial_cust * ((1+grw_rate)** d)\n",
    " #calculating the profit per day\n",
    "   profit_day=  profit * customer_day\n",
    " #calculate the number amount of profit\n",
    "   cumulated_profit +=profit_day\n",
    "   d +=1 # days incrementing\n",
    "\n",
    "       # printing the days as a result\n",
    "\n",
    "print(f\"The number of day needed it will take to repay the initial investment is:{d} Days\")\n",
    "      \n",
    "\n",
    "\n",
    "\n",
    "\n",
    " "
   ]
  },
  {
   "cell_type": "markdown",
   "metadata": {},
   "source": [
    "## QUESTION_6\n"
   ]
  },
  {
   "cell_type": "code",
   "execution_count": null,
   "metadata": {},
   "outputs": [],
   "source": []
  }
 ],
 "metadata": {
  "kernelspec": {
   "display_name": "Python 3",
   "language": "python",
   "name": "python3"
  },
  "language_info": {
   "codemirror_mode": {
    "name": "ipython",
    "version": 3
   },
   "file_extension": ".py",
   "mimetype": "text/x-python",
   "name": "python",
   "nbconvert_exporter": "python",
   "pygments_lexer": "ipython3",
   "version": "3.12.5"
  }
 },
 "nbformat": 4,
 "nbformat_minor": 2
}
