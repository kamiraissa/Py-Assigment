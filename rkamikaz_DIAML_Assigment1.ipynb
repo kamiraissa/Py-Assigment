{
 "cells": [
  {
   "cell_type": "code",
   "execution_count": null,
   "metadata": {},
   "outputs": [],
   "source": [
    "import pandas as pd\n",
    "import math\n",
    "#import matplotlib as plt\n",
    "import numpy_financial as npf\n",
    "import matplotlib.pyplot as plt\n",
    "import numpy as np\n",
    "import matplotlib.pyplot as plt"
   ]
  },
  {
   "cell_type": "markdown",
   "metadata": {},
   "source": []
  },
  {
   "cell_type": "markdown",
   "metadata": {},
   "source": [
    "## QUESTION_1"
   ]
  },
  {
   "cell_type": "code",
   "execution_count": null,
   "metadata": {},
   "outputs": [],
   "source": [
    "#constant height of mount everest in millimeters\n",
    "mount_everest= 8848000\n",
    "\n",
    "#calculate number folds to exceed height of mount everest\n",
    "f=math.ceil(math.log2(mount_everest))\n",
    "\n",
    "print(f\"The number of folds to exceed is :{f}\")\n",
    "\n"
   ]
  },
  {
   "cell_type": "markdown",
   "metadata": {},
   "source": [
    "## QUESTION_2"
   ]
  },
  {
   "cell_type": "code",
   "execution_count": null,
   "metadata": {},
   "outputs": [],
   "source": [
    "#formula v(t)=v(0)exp(-at)\n",
    "# constant value of a\n",
    "a=0.1\n",
    "\n",
    "#calculate the time at which the volume decrease to one half\n",
    "\n",
    "# using math.log to calculate the(ln(0.5))\n",
    "t=math.log(0.5)/-a\n",
    "\n",
    "print(f\"The time for the resevoir volume to decrease to one half is:{t}\")"
   ]
  },
  {
   "cell_type": "markdown",
   "metadata": {},
   "source": [
    "## QUESTION_3"
   ]
  },
  {
   "cell_type": "code",
   "execution_count": null,
   "metadata": {},
   "outputs": [],
   "source": [
    "#Bank coumpount interest calculation formula\n",
    "\n",
    "pc=100 #initial deposit\n",
    "rt=0.05 # annual interest rate(5%)\n",
    "yr=5 # number of years\n",
    "\n",
    "#use of function to calculate coumpound interest\n",
    "\n",
    "def c_interest(pc,rt,yr):\n",
    "    \n",
    "    #initialization of an empty list to store each year interest\n",
    "    yr_interest= []\n",
    "    \n",
    "     # for loop from 1 year to 5 years\n",
    "    for y in range(1,6): \n",
    "        \n",
    "        # calculation of each year amount\n",
    "        a= pc * ((1 + rt) ** y)\n",
    "    \n",
    "        \n",
    "        #displaying the output\n",
    "        print(f\"year {y}: Total Amount = ${round(a,3)} \")\n",
    "    \n",
    "    return yr_interest\n",
    "        \n",
    "# call the function of compound interest\n",
    "yr= c_interest(pc,rt,yr)\n",
    "    \n"
   ]
  },
  {
   "cell_type": "markdown",
   "metadata": {},
   "source": [
    "## QUESTION_4"
   ]
  },
  {
   "cell_type": "code",
   "execution_count": null,
   "metadata": {},
   "outputs": [],
   "source": [
    "#car loan calculation formula\n",
    "rate=0.01 # Monthly interest rate\n",
    "pr=20000 #  amount $20000\n",
    "yr=0 #initializing the year to 0\n",
    "\n",
    "\n",
    "# using for loop for different months of the year\n",
    "for months in [12,24,36]:\n",
    "  \n",
    "  #condition for number of years not exceed 3\n",
    "  if yr <= 3:\n",
    "    #if the condition is true the year will increment\n",
    "    yr += 1\n",
    "    \n",
    "    #loan formula calculation\n",
    "    amt = (rate * pr) / (1-((1 + rate)** -months))\n",
    "    \n",
    "    #printing the year and corresponding repayment\n",
    "    print(f\"For year: {yr}, The Monthly Loan payment is:{round(amt,3)} \")\n",
    "    \n",
    "    #else the condition will break\n",
    "  else:\n",
    "    break\n",
    "    \n",
    "   \n",
    "    \n"
   ]
  },
  {
   "cell_type": "markdown",
   "metadata": {},
   "source": [
    "## QUESTION_5"
   ]
  },
  {
   "cell_type": "code",
   "execution_count": null,
   "metadata": {},
   "outputs": [],
   "source": [
    "# Number of days to repay the initial investment\n",
    "\n",
    "\n",
    "initial_invest= 100000 # the initial investment $100,000\n",
    "grw_rate= 0.01  # Growth rate in the number of customers\n",
    "initial_cust= 100 # day one customer number\n",
    "profit= 10  # profit per person\n",
    "cumulated_profit=0\n",
    "d= 0 # starting day at 0\n",
    "\n",
    "brk_day= None\n",
    "d_list=[]\n",
    "# create a  loop to compute daily profit\n",
    "while cumulated_profit < initial_invest:\n",
    "   d_list.append(d)\n",
    "   \n",
    " # calculating the total number of customer each day\n",
    "   customer_day= initial_cust * ((1+grw_rate)** d)\n",
    " #calculating the profit per day\n",
    "   profit_day=  profit * customer_day\n",
    " #calculate the number amount of profit\n",
    "   cumulated_profit +=profit_day\n",
    "   d +=1 # days incrementing\n",
    "\n",
    "       # printing the days as a result\n",
    "\n",
    "print(f\"The number of day needed it will take to repay the initial investment is:{d} Days\")\n",
    "      \n",
    "\n",
    "\n",
    "\n",
    "\n",
    " "
   ]
  },
  {
   "cell_type": "markdown",
   "metadata": {},
   "source": [
    "## QUESTION_6\n"
   ]
  },
  {
   "cell_type": "code",
   "execution_count": 64,
   "metadata": {},
   "outputs": [
    {
     "name": "stderr",
     "output_type": "stream",
     "text": [
      "C:\\Users\\User\\AppData\\Local\\Temp\\ipykernel_14944\\2744294437.py:34: UserWarning: Boolean Series key will be reindexed to match DataFrame index.\n",
      "  min_date = df[range_filter][df[column] == min_value].index[0]\n",
      "C:\\Users\\User\\AppData\\Local\\Temp\\ipykernel_14944\\2744294437.py:34: UserWarning: Boolean Series key will be reindexed to match DataFrame index.\n",
      "  min_date = df[range_filter][df[column] == min_value].index[0]\n",
      "C:\\Users\\User\\AppData\\Local\\Temp\\ipykernel_14944\\2744294437.py:34: UserWarning: Boolean Series key will be reindexed to match DataFrame index.\n",
      "  min_date = df[range_filter][df[column] == min_value].index[0]\n",
      "C:\\Users\\User\\AppData\\Local\\Temp\\ipykernel_14944\\2744294437.py:34: UserWarning: Boolean Series key will be reindexed to match DataFrame index.\n",
      "  min_date = df[range_filter][df[column] == min_value].index[0]\n",
      "C:\\Users\\User\\AppData\\Local\\Temp\\ipykernel_14944\\2744294437.py:34: UserWarning: Boolean Series key will be reindexed to match DataFrame index.\n",
      "  min_date = df[range_filter][df[column] == min_value].index[0]\n",
      "C:\\Users\\User\\AppData\\Local\\Temp\\ipykernel_14944\\2744294437.py:34: UserWarning: Boolean Series key will be reindexed to match DataFrame index.\n",
      "  min_date = df[range_filter][df[column] == min_value].index[0]\n",
      "C:\\Users\\User\\AppData\\Local\\Temp\\ipykernel_14944\\2744294437.py:34: UserWarning: Boolean Series key will be reindexed to match DataFrame index.\n",
      "  min_date = df[range_filter][df[column] == min_value].index[0]\n",
      "C:\\Users\\User\\AppData\\Local\\Temp\\ipykernel_14944\\2744294437.py:34: UserWarning: Boolean Series key will be reindexed to match DataFrame index.\n",
      "  min_date = df[range_filter][df[column] == min_value].index[0]\n",
      "C:\\Users\\User\\AppData\\Local\\Temp\\ipykernel_14944\\2744294437.py:34: UserWarning: Boolean Series key will be reindexed to match DataFrame index.\n",
      "  min_date = df[range_filter][df[column] == min_value].index[0]\n",
      "C:\\Users\\User\\AppData\\Local\\Temp\\ipykernel_14944\\2744294437.py:34: UserWarning: Boolean Series key will be reindexed to match DataFrame index.\n",
      "  min_date = df[range_filter][df[column] == min_value].index[0]\n"
     ]
    },
    {
     "ename": "AttributeError",
     "evalue": "'str' object has no attribute 'strftime'",
     "output_type": "error",
     "traceback": [
      "\u001b[1;31m---------------------------------------------------------------------------\u001b[0m",
      "\u001b[1;31mAttributeError\u001b[0m                            Traceback (most recent call last)",
      "Cell \u001b[1;32mIn[64], line 79\u001b[0m\n\u001b[0;32m     77\u001b[0m \u001b[38;5;28;01mfor\u001b[39;00m date \u001b[38;5;129;01min\u001b[39;00m marked_dates:\n\u001b[0;32m     78\u001b[0m     plt\u001b[38;5;241m.\u001b[39maxvline(x\u001b[38;5;241m=\u001b[39mdate, color\u001b[38;5;241m=\u001b[39m\u001b[38;5;124m'\u001b[39m\u001b[38;5;124mgreen\u001b[39m\u001b[38;5;124m'\u001b[39m, linestyle\u001b[38;5;241m=\u001b[39m\u001b[38;5;124m'\u001b[39m\u001b[38;5;124m--\u001b[39m\u001b[38;5;124m'\u001b[39m, linewidth\u001b[38;5;241m=\u001b[39m\u001b[38;5;241m0.8\u001b[39m)\n\u001b[1;32m---> 79\u001b[0m     plt\u001b[38;5;241m.\u001b[39mtext(date, reindexed_data\u001b[38;5;241m.\u001b[39mloc[date, \u001b[38;5;124m'\u001b[39m\u001b[38;5;124mCases\u001b[39m\u001b[38;5;124m'\u001b[39m], \u001b[43mdate\u001b[49m\u001b[38;5;241;43m.\u001b[39;49m\u001b[43mstrftime\u001b[49m(\u001b[38;5;124m\"\u001b[39m\u001b[38;5;132;01m%d\u001b[39;00m\u001b[38;5;124m/\u001b[39m\u001b[38;5;124m%\u001b[39m\u001b[38;5;124mm/\u001b[39m\u001b[38;5;124m%\u001b[39m\u001b[38;5;124mY\u001b[39m\u001b[38;5;124m\"\u001b[39m), rotation\u001b[38;5;241m=\u001b[39m\u001b[38;5;241m90\u001b[39m, verticalalignment\u001b[38;5;241m=\u001b[39m\u001b[38;5;124m'\u001b[39m\u001b[38;5;124mbottom\u001b[39m\u001b[38;5;124m'\u001b[39m, color\u001b[38;5;241m=\u001b[39m\u001b[38;5;124m'\u001b[39m\u001b[38;5;124mgreen\u001b[39m\u001b[38;5;124m'\u001b[39m)\n\u001b[0;32m     81\u001b[0m plt\u001b[38;5;241m.\u001b[39mxlabel(\u001b[38;5;124m'\u001b[39m\u001b[38;5;124mDate\u001b[39m\u001b[38;5;124m'\u001b[39m)\n\u001b[0;32m     82\u001b[0m plt\u001b[38;5;241m.\u001b[39mylabel(\u001b[38;5;124m'\u001b[39m\u001b[38;5;124mNumber of Cases/Deaths\u001b[39m\u001b[38;5;124m'\u001b[39m)\n",
      "\u001b[1;31mAttributeError\u001b[0m: 'str' object has no attribute 'strftime'"
     ]
    },
    {
     "data": {
      "image/png": "[encoded data removed]",
      "text/plain": [
       "<Figure size 1400x800 with 1 Axes>"
      ]
     },
     "metadata": {},
     "output_type": "display_data"
    }
   ],
   "source": [
    "# import the excel file\n",
    "\n",
    "data = pd.read_excel('ebola_download.xls')\n",
    "\n",
    "data = data.iloc[:, [0,1,2]]\n",
    "\n",
    "dates = data['Date']\n",
    "date_range = pd.date_range(dates[0], dates[len(dates) - 1])\n",
    "date_list = date_range.strftime(\"%d/%m/%Y\").tolist()\n",
    "\n",
    "data.set_index('Date', inplace=True)\n",
    "\n",
    "reindexed_data = data.reindex(date_list)\n",
    "\n",
    "# df.to_excel('newFile.xls', index=False)\n",
    "\n",
    "cases_in_range_100 = (reindexed_data['Cases'] > 100) & (reindexed_data['Cases'] < 200)\n",
    "cases_in_range_500 = (reindexed_data['Cases'] > 500) & (reindexed_data['Cases'] < 600)\n",
    "cases_in_range_1000 = (reindexed_data['Cases'] > 1000) & (reindexed_data['Cases'] < 2000)\n",
    "cases_in_range_2000 = (reindexed_data['Cases'] > 2000) & (reindexed_data['Cases'] < 3000)\n",
    "cases_in_range_5000 = (reindexed_data['Cases'] > 5000) & (reindexed_data['Cases'] < 6000)\n",
    "\n",
    "death_in_range_100 = (reindexed_data['Death'] > 100) & (reindexed_data['Death'] < 200)\n",
    "death_in_range_500 = (reindexed_data['Death'] > 500) & (reindexed_data['Death'] < 600)\n",
    "death_in_range_1000 = (reindexed_data['Death'] > 1000) & (reindexed_data['Death'] < 2000)\n",
    "death_in_range_2000 = (reindexed_data['Death'] > 2000) & (reindexed_data['Death'] < 3000)\n",
    "death_in_range_5000 = (reindexed_data['Death'] > 5000) & (reindexed_data['Death'] < 6000)\n",
    "\n",
    "\n",
    "# Finding minimum values and associated dates\n",
    "def find_min_and_date(df, column, range_filter):\n",
    "    if not df[range_filter].empty:\n",
    "        min_value = df[range_filter][column].min()\n",
    "        min_date = df[range_filter][df[column] == min_value].index[0]\n",
    "        return min_value, min_date\n",
    "    else:\n",
    "        return None, None\n",
    "\n",
    "# Finding first exceedance dates\n",
    "def find_first_exceedance_date(df, column, threshold):\n",
    "    exceedance_filter = df[column] > threshold\n",
    "    if not df[exceedance_filter].empty:\n",
    "        return df[exceedance_filter].index[0]\n",
    "    else:\n",
    "        return None\n",
    "\n",
    "# Store the dates for plotting\n",
    "marked_dates = []\n",
    "\n",
    "# Get minimum values and their dates\n",
    "for range_filter in [cases_in_range_100, cases_in_range_500, cases_in_range_1000, cases_in_range_2000, cases_in_range_5000]:\n",
    "    _, min_date = find_min_and_date(reindexed_data, 'Cases', range_filter)\n",
    "    if min_date:\n",
    "        marked_dates.append(min_date)\n",
    "\n",
    "for range_filter in [death_in_range_100, death_in_range_500, death_in_range_1000, death_in_range_2000, death_in_range_5000]:\n",
    "    _, min_date = find_min_and_date(reindexed_data, 'Death', range_filter)\n",
    "    if min_date:\n",
    "        marked_dates.append(min_date)\n",
    "\n",
    "# Get first exceedance dates\n",
    "for threshold in [100, 500, 1000, 2000, 5000]:\n",
    "    case_date = find_first_exceedance_date(reindexed_data, 'Cases', threshold)\n",
    "    death_date = find_first_exceedance_date(reindexed_data, 'Death', threshold)\n",
    "    if case_date:\n",
    "        marked_dates.append(case_date)\n",
    "    if death_date:\n",
    "        marked_dates.append(death_date)\n",
    "\n",
    "# Plotting the data\n",
    "plt.figure(figsize=(14, 8))\n",
    "\n",
    "plt.plot(reindexed_data.index, reindexed_data['Cases'], label='Cases', color='blue', marker='o', markersize=4)\n",
    "plt.plot(reindexed_data.index, reindexed_data['Death'], label='Deaths', color='red', marker='x', markersize=4)\n",
    "\n",
    "# Mark the dates on the plot\n",
    "for date in marked_dates:\n",
    "    plt.axvline(x=date, color='green', linestyle='--', linewidth=0.8)\n",
    "    plt.text(date, reindexed_data.loc[date, 'Cases'], date.strftime(\"%d/%m/%Y\"), rotation=90, verticalalignment='bottom', color='green')\n",
    "\n",
    "plt.xlabel('Date')\n",
    "plt.ylabel('Number of Cases/Deaths')\n",
    "plt.title('Ebola Cases and Deaths Over Time')\n",
    "plt.legend()\n",
    "plt.grid(True)\n",
    "plt.show()\n",
    "\n",
    "\n",
    "\n",
    "\n",
    "\n",
    "# print(min(reindexed_data[cases_in_range_100]['Cases']))\n",
    "# print(min(reindexed_data[cases_in_range_500]['Cases']))\n",
    "# print(min(reindexed_data[cases_in_range_1000]['Cases']))\n",
    "# print(min(reindexed_data[cases_in_range_2000]['Cases']))\n",
    "# print(min(reindexed_data[cases_in_range_5000]['Cases']))\n",
    "\n",
    "# print(min(reindexed_data[death_in_range_100]['Death']))\n",
    "# print(min(reindexed_data[death_in_range_500]['Death']))\n",
    "# print(min(reindexed_data[death_in_range_1000]['Death']))\n",
    "# print(min(reindexed_data[death_in_range_2000]['Death']))\n",
    "# print(min(reindexed_data[death_in_range_5000]['Death']))\n",
    "\n",
    "\n",
    "# print('Date: ')\n",
    "\n",
    "\n"
   ]
  }
 ],
 "metadata": {
  "kernelspec": {
   "display_name": "Python 3",
   "language": "python",
   "name": "python3"
  },
  "language_info": {
   "codemirror_mode": {
    "name": "ipython",
    "version": 3
   },
   "file_extension": ".py",
   "mimetype": "text/x-python",
   "name": "python",
   "nbconvert_exporter": "python",
   "pygments_lexer": "ipython3",
   "version": "3.12.5"
  }
 },
 "nbformat": 4,
 "nbformat_minor": 2
}
